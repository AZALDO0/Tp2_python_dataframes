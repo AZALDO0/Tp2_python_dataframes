{
 "cells": [
  {
   "cell_type": "code",
   "execution_count": 1,
   "id": "8bd18251-12cc-46e8-9b78-078a85f676b5",
   "metadata": {},
   "outputs": [
    {
     "name": "stdout",
     "output_type": "stream",
     "text": [
      "Hello world\n"
     ]
    }
   ],
   "source": [
    "print(\"Hello world\")"
   ]
  },
  {
   "cell_type": "code",
   "execution_count": 4,
   "id": "23c89442-3ee0-4a8e-9f64-a5b9ea76f5b7",
   "metadata": {},
   "outputs": [],
   "source": [
    "import pandas as pd \n",
    "df=pd.read_csv(\"nodes-addresses.csv\",low_memory=False)"
   ]
  },
  {
   "cell_type": "code",
   "execution_count": 5,
   "id": "7c2db7da-b9b8-4780-b49c-96bec57f7afe",
   "metadata": {},
   "outputs": [],
   "source": [
    "nombre_de_pays= len(df[\"countries\"].drop_duplicates())"
   ]
  },
  {
   "cell_type": "code",
   "execution_count": 11,
   "id": "f2f24abc-0ee1-45c2-ba48-538bf3a245b8",
   "metadata": {},
   "outputs": [
    {
     "name": "stdout",
     "output_type": "stream",
     "text": [
      "238\n"
     ]
    }
   ],
   "source": [
    "print(nombre_de_pays)\n",
    "#Question 1\n",
    "#Nombre de pays qui ont été déclaré dans les offshore leaks"
   ]
  },
  {
   "cell_type": "code",
   "execution_count": 12,
   "id": "23049371-6d5f-4f11-83f1-7da3b34564a4",
   "metadata": {},
   "outputs": [
    {
     "name": "stdout",
     "output_type": "stream",
     "text": [
      "<class 'pandas.core.frame.DataFrame'>\n",
      "RangeIndex: 390995 entries, 0 to 390994\n",
      "Data columns (total 9 columns):\n",
      " #   Column         Non-Null Count   Dtype \n",
      "---  ------         --------------   ----- \n",
      " 0   _id            390995 non-null  int64 \n",
      " 1   node_id        390995 non-null  int64 \n",
      " 2   address        371063 non-null  object\n",
      " 3   name           223348 non-null  object\n",
      " 4   countries      265805 non-null  object\n",
      " 5   country_codes  265805 non-null  object\n",
      " 6   sourceID       390995 non-null  object\n",
      " 7   valid_until    390995 non-null  object\n",
      " 8   note           25 non-null      object\n",
      "dtypes: int64(2), object(7)\n",
      "memory usage: 26.8+ MB\n"
     ]
    }
   ],
   "source": [
    "df.info()\n"
   ]
  },
  {
   "cell_type": "code",
   "execution_count": 13,
   "id": "c7d25322-ba9d-46c7-913f-cb0058449f9d",
   "metadata": {},
   "outputs": [
    {
     "data": {
      "text/plain": [
       "China                       32067\n",
       "Hong Kong                   27179\n",
       "United States               24248\n",
       "Barbados                    19344\n",
       "Aruba                       17512\n",
       "                            ...  \n",
       "Northern Mariana Islands        1\n",
       "New Caledonia                   1\n",
       "Norfolk Island                  1\n",
       "Réunion                         1\n",
       "Korea, Republic of              1\n",
       "Name: countries, Length: 237, dtype: int64"
      ]
     },
     "execution_count": 13,
     "metadata": {},
     "output_type": "execute_result"
    }
   ],
   "source": [
    "df[\"countries\"].value_counts()"
   ]
  },
  {
   "cell_type": "code",
   "execution_count": 14,
   "id": "11722d7c-c2ad-477e-9c42-97acd94619c0",
   "metadata": {},
   "outputs": [],
   "source": [
    "P_Of_Irland=len(df[df[\"countries\"]==\"Ireland\"])"
   ]
  },
  {
   "cell_type": "code",
   "execution_count": 15,
   "id": "d3ede302-6363-453b-9ad4-74fa9013e735",
   "metadata": {},
   "outputs": [
    {
     "name": "stdout",
     "output_type": "stream",
     "text": [
      "899\n"
     ]
    }
   ],
   "source": [
    "print(P_Of_Irland)\n",
    "#Question 2\n",
    "#Voici le nombre d'entrée dans lequel le mot Ireland est présent"
   ]
  },
  {
   "cell_type": "code",
   "execution_count": 18,
   "id": "8ae6ad46-a93f-432b-b17c-097fd2bae5dc",
   "metadata": {},
   "outputs": [],
   "source": [
    "nodes_officier=pd.read_csv(\"nodes-officers.csv\",low_memory=False)"
   ]
  },
  {
   "cell_type": "code",
   "execution_count": 19,
   "id": "8ef3e024-2c1a-438b-a077-828b2c8e7fc2",
   "metadata": {},
   "outputs": [],
   "source": [
    "nmbre_montagne=len(nodes_officier[nodes_officier[\"name\"]==\"EL PORTADOR\"])"
   ]
  },
  {
   "cell_type": "code",
   "execution_count": 20,
   "id": "b8d5239a-09d0-4216-b41a-cb723b172dfb",
   "metadata": {},
   "outputs": [
    {
     "name": "stdout",
     "output_type": "stream",
     "text": [
      "9325\n"
     ]
    }
   ],
   "source": [
    "print(nmbre_montagne)\n",
    "#Question 3 \n",
    "#Nombre de montagne dans lequel apparaît \"El PORTADOR\""
   ]
  },
  {
   "cell_type": "code",
   "execution_count": null,
   "id": "42c30468",
   "metadata": {},
   "outputs": [],
   "source": []
  }
 ],
 "metadata": {
  "kernelspec": {
   "display_name": "Python 3 (ipykernel)",
   "language": "python",
   "name": "python3"
  },
  "language_info": {
   "codemirror_mode": {
    "name": "ipython",
    "version": 3
   },
   "file_extension": ".py",
   "mimetype": "text/x-python",
   "name": "python",
   "nbconvert_exporter": "python",
   "pygments_lexer": "ipython3",
   "version": "3.9.7"
  }
 },
 "nbformat": 4,
 "nbformat_minor": 5
}
